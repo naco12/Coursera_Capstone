{
 "cells": [
  {
   "cell_type": "markdown",
   "metadata": {},
   "source": [
    "# 1) Introduction/Business problem"
   ]
  },
  {
   "cell_type": "markdown",
   "metadata": {},
   "source": [
    "## 1a) Problem"
   ]
  },
  {
   "cell_type": "markdown",
   "metadata": {},
   "source": [
    "### The restaurant business is highly competitive. To be successful in this area, one need a carefully thought business plan.\n",
    "### One major aspect of the business plan is to find a convenient place to host the business. I will be focusing on the Houston metro area.\n",
    "### The goal is to find the 5 best neighborhoods in the Houston metro area for opening a new restaurant"
   ]
  },
  {
   "cell_type": "markdown",
   "metadata": {},
   "source": [
    "## 1b) Audience"
   ]
  },
  {
   "cell_type": "markdown",
   "metadata": {},
   "source": [
    "### This study and results could be very helpful to anyone seeking to open a business in the Houston metro area. I am thinking here about individual or family own restaurant.\n",
    "### Also corporation looking to open new restaurant in this part of the country could also benefit from this work.\n",
    "### More generally,  anyone looking to open a restaurant anywhere in the country can use the method developed here an just feed in the corresponding data"
   ]
  },
  {
   "cell_type": "markdown",
   "metadata": {},
   "source": [
    "# 2) data description"
   ]
  },
  {
   "cell_type": "markdown",
   "metadata": {},
   "source": [
    "### To complete this work, we will be using 2 dataset: The Foursquare dataset and census data"
   ]
  },
  {
   "cell_type": "markdown",
   "metadata": {},
   "source": [
    "## 2a) Foursquare data"
   ]
  },
  {
   "cell_type": "markdown",
   "metadata": {},
   "source": [
    "### Foursquare is a company that provides informations about venues in many location. Foursquare will help us find restaurant in Houston neighborhood.\n",
    "### Their online website is at www.foursquare.com. Once a venue is located, it is also possible to look deeper into the venue to have more information about it."
   ]
  },
  {
   "cell_type": "markdown",
   "metadata": {},
   "source": [
    "## 2b) StatisticalAtlas"
   ]
  },
  {
   "cell_type": "markdown",
   "metadata": {},
   "source": [
    "### to find Houston county and Neighborhood, I use the statisticalatlas web page at www.statisticalatlas.com. By selecting the state (Texas) and the Metro are (Houston metro), \n",
    "### I was able to get all the county and Neighborhood in the metro area. I then feed the information in the census data tool to get the statistics about the city or neighborhood."
   ]
  },
  {
   "cell_type": "markdown",
   "metadata": {},
   "source": [
    "## 2c) census data"
   ]
  },
  {
   "cell_type": "markdown",
   "metadata": {},
   "source": [
    "### the us Government conduct census every 10 years to gather information about us population. the us government then make these data public so that anyone interested can use.\n",
    "### I use a specific tool call QuickFact from the census Bureau to get some statistical information about Houston neighborhood. All the data I got was compiled on a csv file.\n",
    "### you can see the first line of the file below"
   ]
  },
  {
   "cell_type": "code",
   "execution_count": 11,
   "metadata": {},
   "outputs": [],
   "source": [
    "# importing the pandas library\n",
    "import pandas as pd"
   ]
  },
  {
   "cell_type": "code",
   "execution_count": 12,
   "metadata": {},
   "outputs": [
    {
     "data": {
      "text/plain": [
       "(65, 64)"
      ]
     },
     "execution_count": 12,
     "metadata": {},
     "output_type": "execute_result"
    }
   ],
   "source": [
    "# reading the file into a panda dataframe and displaying the dimension\n",
    "houston = pd.read_csv(\"Houston_City_Neighborhood_rev4.csv\")\n",
    "houston.shape\n"
   ]
  },
  {
   "cell_type": "code",
   "execution_count": 13,
   "metadata": {},
   "outputs": [
    {
     "data": {
      "text/html": [
       "<div>\n",
       "<style scoped>\n",
       "    .dataframe tbody tr th:only-of-type {\n",
       "        vertical-align: middle;\n",
       "    }\n",
       "\n",
       "    .dataframe tbody tr th {\n",
       "        vertical-align: top;\n",
       "    }\n",
       "\n",
       "    .dataframe thead th {\n",
       "        text-align: right;\n",
       "    }\n",
       "</style>\n",
       "<table border=\"1\" class=\"dataframe\">\n",
       "  <thead>\n",
       "    <tr style=\"text-align: right;\">\n",
       "      <th></th>\n",
       "      <th>County</th>\n",
       "      <th>City</th>\n",
       "      <th>Population estimates, July 1, 2019,  (V2019)</th>\n",
       "      <th>Population estimates base, April 1, 2010,  (V2019)</th>\n",
       "      <th>Population, percent change - April 1, 2010 (estimates base) to July 1, 2019,  (V2019)</th>\n",
       "      <th>Population, Census, April 1, 2010</th>\n",
       "      <th>Persons under 5 years, percent</th>\n",
       "      <th>Persons under 18 years, percent</th>\n",
       "      <th>Persons 65 years and over, percent</th>\n",
       "      <th>Female persons, percent</th>\n",
       "      <th>...</th>\n",
       "      <th>All firms, 2012</th>\n",
       "      <th>Men-owned firms, 2012</th>\n",
       "      <th>Women-owned firms, 2012</th>\n",
       "      <th>Minority-owned firms, 2012</th>\n",
       "      <th>Nonminority-owned firms, 2012</th>\n",
       "      <th>Veteran-owned firms, 2012</th>\n",
       "      <th>Nonveteran-owned firms, 2012</th>\n",
       "      <th>Population per square mile, 2010</th>\n",
       "      <th>Land area in square miles, 2010</th>\n",
       "      <th>FIPS Code</th>\n",
       "    </tr>\n",
       "  </thead>\n",
       "  <tbody>\n",
       "    <tr>\n",
       "      <th>0</th>\n",
       "      <td>Harris</td>\n",
       "      <td>Bellaire</td>\n",
       "      <td>18,971</td>\n",
       "      <td>16,907</td>\n",
       "      <td>12.20%</td>\n",
       "      <td>16,855</td>\n",
       "      <td>5.80%</td>\n",
       "      <td>26.80%</td>\n",
       "      <td>14.90%</td>\n",
       "      <td>51.20%</td>\n",
       "      <td>...</td>\n",
       "      <td>3,463</td>\n",
       "      <td>1,976</td>\n",
       "      <td>987</td>\n",
       "      <td>821</td>\n",
       "      <td>2,515</td>\n",
       "      <td>256</td>\n",
       "      <td>3,090</td>\n",
       "      <td>4,692.40</td>\n",
       "      <td>3.59</td>\n",
       "      <td>\"4807300\"</td>\n",
       "    </tr>\n",
       "    <tr>\n",
       "      <th>1</th>\n",
       "      <td>Harris</td>\n",
       "      <td>Baytown</td>\n",
       "      <td>77,192</td>\n",
       "      <td>71,605</td>\n",
       "      <td>7.80%</td>\n",
       "      <td>71,802</td>\n",
       "      <td>7.70%</td>\n",
       "      <td>27.80%</td>\n",
       "      <td>11.80%</td>\n",
       "      <td>49.60%</td>\n",
       "      <td>...</td>\n",
       "      <td>5,656</td>\n",
       "      <td>2,614</td>\n",
       "      <td>2,436</td>\n",
       "      <td>3,000</td>\n",
       "      <td>2,390</td>\n",
       "      <td>510</td>\n",
       "      <td>4,745</td>\n",
       "      <td>2,025.70</td>\n",
       "      <td>35.45</td>\n",
       "      <td>\"4806128\"</td>\n",
       "    </tr>\n",
       "    <tr>\n",
       "      <th>2</th>\n",
       "      <td>Brazoria</td>\n",
       "      <td>Angleton</td>\n",
       "      <td>19,431</td>\n",
       "      <td>18,829</td>\n",
       "      <td>3.20%</td>\n",
       "      <td>18,862</td>\n",
       "      <td>6.20%</td>\n",
       "      <td>26.70%</td>\n",
       "      <td>15.10%</td>\n",
       "      <td>53.20%</td>\n",
       "      <td>...</td>\n",
       "      <td>1,633</td>\n",
       "      <td>809</td>\n",
       "      <td>654</td>\n",
       "      <td>621</td>\n",
       "      <td>943</td>\n",
       "      <td>119</td>\n",
       "      <td>1,417</td>\n",
       "      <td>1,673.30</td>\n",
       "      <td>11.27</td>\n",
       "      <td>\"4803264\"</td>\n",
       "    </tr>\n",
       "    <tr>\n",
       "      <th>3</th>\n",
       "      <td>Brazoria</td>\n",
       "      <td>Alvin</td>\n",
       "      <td>26,723</td>\n",
       "      <td>24,161</td>\n",
       "      <td>10.60%</td>\n",
       "      <td>24,236</td>\n",
       "      <td>8.40%</td>\n",
       "      <td>26.10%</td>\n",
       "      <td>12.40%</td>\n",
       "      <td>49.50%</td>\n",
       "      <td>...</td>\n",
       "      <td>2,508</td>\n",
       "      <td>1,410</td>\n",
       "      <td>777</td>\n",
       "      <td>934</td>\n",
       "      <td>1,452</td>\n",
       "      <td>155</td>\n",
       "      <td>2,215</td>\n",
       "      <td>997.7</td>\n",
       "      <td>24.29</td>\n",
       "      <td>\"4802272\"</td>\n",
       "    </tr>\n",
       "    <tr>\n",
       "      <th>4</th>\n",
       "      <td>Liberty</td>\n",
       "      <td>Dayton</td>\n",
       "      <td>8389</td>\n",
       "      <td>7364</td>\n",
       "      <td>0.139</td>\n",
       "      <td>7242</td>\n",
       "      <td>0.058</td>\n",
       "      <td>0.263</td>\n",
       "      <td>0.132</td>\n",
       "      <td>0.536</td>\n",
       "      <td>...</td>\n",
       "      <td>1242</td>\n",
       "      <td>623</td>\n",
       "      <td>432</td>\n",
       "      <td>466</td>\n",
       "      <td>721</td>\n",
       "      <td>101</td>\n",
       "      <td>1110</td>\n",
       "      <td>343.5</td>\n",
       "      <td>21.08</td>\n",
       "      <td>\"4819432\"</td>\n",
       "    </tr>\n",
       "  </tbody>\n",
       "</table>\n",
       "<p>5 rows × 64 columns</p>\n",
       "</div>"
      ],
      "text/plain": [
       "     County       City Population estimates, July 1, 2019,  (V2019)  \\\n",
       "0    Harris  Bellaire                                        18,971   \n",
       "1    Harris   Baytown                                        77,192   \n",
       "2  Brazoria  Angleton                                        19,431   \n",
       "3  Brazoria     Alvin                                        26,723   \n",
       "4   Liberty    Dayton                                          8389   \n",
       "\n",
       "  Population estimates base, April 1, 2010,  (V2019)  \\\n",
       "0                                             16,907   \n",
       "1                                             71,605   \n",
       "2                                             18,829   \n",
       "3                                             24,161   \n",
       "4                                               7364   \n",
       "\n",
       "  Population, percent change - April 1, 2010 (estimates base) to July 1, 2019,  (V2019)  \\\n",
       "0                                             12.20%                                      \n",
       "1                                              7.80%                                      \n",
       "2                                              3.20%                                      \n",
       "3                                             10.60%                                      \n",
       "4                                              0.139                                      \n",
       "\n",
       "  Population, Census, April 1, 2010 Persons under 5 years, percent  \\\n",
       "0                            16,855                          5.80%   \n",
       "1                            71,802                          7.70%   \n",
       "2                            18,862                          6.20%   \n",
       "3                            24,236                          8.40%   \n",
       "4                              7242                          0.058   \n",
       "\n",
       "  Persons under 18 years, percent Persons 65 years and over, percent  \\\n",
       "0                          26.80%                             14.90%   \n",
       "1                          27.80%                             11.80%   \n",
       "2                          26.70%                             15.10%   \n",
       "3                          26.10%                             12.40%   \n",
       "4                           0.263                              0.132   \n",
       "\n",
       "  Female persons, percent  ... All firms, 2012 Men-owned firms, 2012  \\\n",
       "0                  51.20%  ...           3,463                 1,976   \n",
       "1                  49.60%  ...           5,656                 2,614   \n",
       "2                  53.20%  ...           1,633                   809   \n",
       "3                  49.50%  ...           2,508                 1,410   \n",
       "4                   0.536  ...            1242                   623   \n",
       "\n",
       "  Women-owned firms, 2012 Minority-owned firms, 2012  \\\n",
       "0                     987                        821   \n",
       "1                   2,436                      3,000   \n",
       "2                     654                        621   \n",
       "3                     777                        934   \n",
       "4                     432                        466   \n",
       "\n",
       "  Nonminority-owned firms, 2012 Veteran-owned firms, 2012  \\\n",
       "0                         2,515                       256   \n",
       "1                         2,390                       510   \n",
       "2                           943                       119   \n",
       "3                         1,452                       155   \n",
       "4                           721                       101   \n",
       "\n",
       "  Nonveteran-owned firms, 2012 Population per square mile, 2010  \\\n",
       "0                        3,090                         4,692.40   \n",
       "1                        4,745                         2,025.70   \n",
       "2                        1,417                         1,673.30   \n",
       "3                        2,215                            997.7   \n",
       "4                         1110                            343.5   \n",
       "\n",
       "  Land area in square miles, 2010  FIPS Code  \n",
       "0                            3.59  \"4807300\"  \n",
       "1                           35.45  \"4806128\"  \n",
       "2                           11.27  \"4803264\"  \n",
       "3                           24.29  \"4802272\"  \n",
       "4                           21.08  \"4819432\"  \n",
       "\n",
       "[5 rows x 64 columns]"
      ]
     },
     "execution_count": 13,
     "metadata": {},
     "output_type": "execute_result"
    }
   ],
   "source": [
    "\n",
    "# five first row of the dataframe\n",
    "houston.head()"
   ]
  },
  {
   "cell_type": "code",
   "execution_count": null,
   "metadata": {},
   "outputs": [],
   "source": []
  }
 ],
 "metadata": {
  "kernelspec": {
   "display_name": "Python",
   "language": "python",
   "name": "conda-env-python-py"
  },
  "language_info": {
   "codemirror_mode": {
    "name": "ipython",
    "version": 3
   },
   "file_extension": ".py",
   "mimetype": "text/x-python",
   "name": "python",
   "nbconvert_exporter": "python",
   "pygments_lexer": "ipython3",
   "version": "3.6.10"
  }
 },
 "nbformat": 4,
 "nbformat_minor": 4
}
